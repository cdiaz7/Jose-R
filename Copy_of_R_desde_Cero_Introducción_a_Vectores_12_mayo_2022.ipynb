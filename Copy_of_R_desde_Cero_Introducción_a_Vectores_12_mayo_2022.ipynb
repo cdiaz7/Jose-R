{
  "nbformat": 4,
  "nbformat_minor": 0,
  "metadata": {
    "colab": {
      "name": "Copy of R desde Cero. Introducción a Vectores_12_mayo_2022.ipynb",
      "provenance": [],
      "collapsed_sections": [],
      "toc_visible": true,
      "include_colab_link": true
    },
    "kernelspec": {
      "name": "ir",
      "display_name": "R"
    },
    "language_info": {
      "name": "R"
    }
  },
  "cells": [
    {
      "cell_type": "markdown",
      "metadata": {
        "id": "view-in-github",
        "colab_type": "text"
      },
      "source": [
        "<a href=\"https://colab.research.google.com/github/cdiaz7/Jose-R/blob/main/Copy_of_R_desde_Cero_Introducci%C3%B3n_a_Vectores_12_mayo_2022.ipynb\" target=\"_parent\"><img src=\"https://colab.research.google.com/assets/colab-badge.svg\" alt=\"Open In Colab\"/></a>"
      ]
    },
    {
      "cell_type": "markdown",
      "metadata": {
        "id": "_PHELounLVkb"
      },
      "source": [
        "## Google Colaboratory\n",
        "\n",
        "\n",
        "Usaremos en el curso la herramienta [**Google Colaboratory**](https://colab.research.google.com/notebooks/intro.ipynb), aunque tambien usaremos [**RStudio**](https://www.rstudio.com/), [**RStudio Cloud**](https://rstudio.cloud/), [**Jupyter**](https://jupyter.org/) y [**RCommander**](https://socialsciences.mcmaster.ca/jfox/Misc/Rcmdr/).\n",
        "\n",
        "Google Colab tiene la opción de ejecutar el lenguaje R desde esta ubicación[(https://colab.to/r)](https://colab.to/r).\n",
        "\n",
        "\n",
        "\n"
      ]
    },
    {
      "cell_type": "markdown",
      "metadata": {
        "id": "ASRrTqr6ZW3k"
      },
      "source": [
        "# Curso: R desde Cero.\n",
        "\n",
        "<table style=\"width:100%\">\n",
        "<tr>\n",
        "    <td rowspan=\"2\"><img src=\"https://cran.r-project.org/Rlogo.svg\" width=\"200\" height=\"200\" class=\"center\"></td>\n",
        "    <td>Mucio Osorio Sánchez</td>\n",
        "</tr>\n",
        "<tr>\n",
        "    <td>Departamento de Matemáticas</td>\n",
        "</tr>\n",
        "\n",
        "<tr>\n",
        "    <td>Instituto Tecnológico de Sonora (www.itson.mx)</td>\n",
        "</tr>\n",
        "\n",
        "</table>\n",
        "\n",
        "\n",
        "\n",
        "\n",
        "\n",
        "\n",
        "\n",
        "\n",
        "\n",
        "\n",
        "\n"
      ]
    },
    {
      "cell_type": "markdown",
      "metadata": {
        "id": "0I0itfx_iMP1"
      },
      "source": [
        "# ¿Qué es R?\n",
        "\n",
        "***R*** es un lenguaje de programación usado para realizar análisis estadísticos y visualización de datos. Fue creado, en 1992, por Robert Gentleman y Ross Ihaka de la Universidad de Auckland. En 1995 el código fuente de R está disponible bajo licencia GNU GPL para sistemas operativos Windows, Macintosh y distribuciones Unix/Linux. [R-bloggers](https://www.r-bloggers.com/2018/08/r-generation-25-years-of-r/)\n"
      ]
    },
    {
      "cell_type": "markdown",
      "metadata": {
        "id": "QFcNsJ7VTxJ2"
      },
      "source": [
        "# ¿ Por qué R?\n",
        "\n",
        "Es software libre, muy versátil al ser un lenguaje de programación y su uso en la comunidad académica ([https://github.com/cotecora-team-2](https://github.com/cotecora-team-2)) y científica ha crecido enormemente, tanto así que ha desplazado a software propietario como SAS, Minitab, SPSS y otros. \n",
        "\n",
        "[Lenguajes de programación](https://www.tiobe.com/tiobe-index/)\n",
        "\n",
        "[Tendencias en las consultas (R,Minitab, SPSS, Statgraphics y SAS](https://trends.google.es/trends/explore?date=2006-09-01%202021-05-08&geo=MX&q=%2Fm%2F0212jm,%2Fm%2F018fh1,%2Fm%2F08s1kk,%2Fm%2F05vsyc,%2Fm%2F02l0yf8)\n",
        "\n",
        "## Desventajas al usar R\n",
        "\n",
        "1. Lenguaje de programación en línea de comando.\n",
        "2. Curva de aprendizaje pronunciada.\n",
        "\n",
        "Se pueden reducir usando RCommander.\n",
        "\n",
        "## Ventajas\n",
        "\n",
        "1. Software libre y gratuito.\n",
        "* GNU GPL: Libertad de ejecutar el programa como desee y con cualquier propósito, libertad de estudiar el funcionamiento del programa y adaptarlo a sus necesidades, libertad de reescribir copias para ayudar a los demás y libertad de manejar el programa y publicar las mejorar, de manera que toda comunidad se beneficie.\n",
        "2. Multiplataforma (Mac, Windows y Linux)\n",
        "3. Código abierto. Existe una gran comunidad de\n",
        "trabajando para mejorarlo.\n",
        "4. Actualización constante.\n",
        "5. Vasta documentación\n",
        "6. Estándar en la sociedad científica y académica \n",
        "5. Sistemas de graficación de gran calidad (sistema base, ggplot2, Lattice )\n",
        "6. Uso de paquetes \n",
        "7. Entornos de desarrollo y aplicaciones (RStudio, Jupyter, Google Colab, RCommander)\n",
        "8. Desarrollo de actividades apropiadas para el aprendizaje de la Estadística.\n",
        "\n",
        "\n",
        "A pesar de que, incluso maestros,  critican a R por que se requiere escribir códico, hay múltiples puntos a favor de la programación. Se sabe que se  fomenta el razonamiento, que se estructura la mente y que se ordenan las ideas. Muchos investigadores coinciden en que escribir código mejora las habilidades fundamentales como la lógica, la creatividad y el pensamiento abstracto.\n"
      ]
    },
    {
      "cell_type": "markdown",
      "metadata": {
        "id": "wv2_ckrzzTFZ"
      },
      "source": [
        "Para la ayuda de R\n",
        "\n",
        "help(mean)"
      ]
    },
    {
      "cell_type": "code",
      "metadata": {
        "id": "OqC6qs84zd-R"
      },
      "source": [
        "# ayuda sobre la media\n"
      ],
      "execution_count": null,
      "outputs": []
    },
    {
      "cell_type": "markdown",
      "metadata": {
        "id": "IFKmlSID2_mk"
      },
      "source": [
        "# Sitios\n",
        "\n",
        "[RStudio Cheatsheets](https://www.rstudio.com/resources/cheatsheets/) \n",
        "\n",
        "[R for Beginners](https://cran.r-project.org/doc/contrib/Paradis-rdebuts_en.pdf)\n",
        "\n",
        "[R Documentation](https://www.rdocumentation.org/)"
      ]
    },
    {
      "cell_type": "markdown",
      "metadata": {
        "id": "MiCfWMahyFu-"
      },
      "source": [
        "## R como una calculadora.\n",
        "\n",
        "Uno de los primeros pasos para poder dominar R es comprender su uso como calculadora. R realiza operaciones matemáticas y lógicas muy avanzadas. \n",
        "\n",
        "## Operaciones básicas\n",
        "Los símbolos usados para realizar las operaciones básicas en R:\n",
        "\n",
        "| Operación    |  Simbolo | \n",
        "|:-------------|:--------:|\n",
        "|Suma          | +        | \n",
        "|Resta         | -        |\n",
        "|Multiplicación| *        |\n",
        "|División      |/         |\n",
        "|Potencia      |^         |\n",
        "|Cociente      | %/%      |\n",
        "|Residuo       |%%        |\n",
        "|Logaritmo natural|log()  |\n",
        "|Logaritmo base 10|log10()|\n",
        "|Raíz cuadrada  |sqrt()   |\n",
        "|   $e^x$       |exp()    |\n",
        "\n",
        "## Simbolos de comparación\n",
        "Cuando se realizan análisis estadísticos será muy útil realizar pruebas lógicas, por ejemplo cuando requiere seleccionar parte de los datos en el análisis.\n",
        "\n",
        "| Operación    |  Simbolo | \n",
        "|:-------------|:--------:|\n",
        "|Menor que     | <        | \n",
        "|Mayor que     | >        |\n",
        "|Igual que     | ==       |\n",
        "|Menor o igual |<=        |\n",
        "|Mayor o igual |>=        |\n",
        "\n",
        "## Operadores lógicos\n",
        "\n",
        "| Operación    |  Simbolo | \n",
        "|:-------------|:--------:|\n",
        "|Negación      | !        | \n",
        "|and           | &        |\n",
        "|o             | $|$      |\n",
        "\n",
        "\n",
        "Las [funciones trigonométricas](https://stat.ethz.ch/R-manual/R-devel/library/base/html/Trig.html) en R. Tambien en el sistema base de R hay funciones de [derivación e integración](https://rpubs.com/venkatritch/333327#:~:text=R%20base%20system%20supports%20both,we%20want%20to%20find%20differentiation.)\n",
        "\n"
      ]
    },
    {
      "cell_type": "markdown",
      "metadata": {
        "id": "h1I-W1a_MHFN"
      },
      "source": [
        ""
      ]
    },
    {
      "cell_type": "markdown",
      "metadata": {
        "id": "Yvw0CAAbfXOW"
      },
      "source": [
        "## Los primeros cálculos en R\n",
        "\n",
        "1. calcula el área de un triángulo cuya base es 10m y con altura 20m\n",
        "\n"
      ]
    },
    {
      "cell_type": "code",
      "metadata": {
        "id": "pvcB_-HaP-9A"
      },
      "source": [
        "# Calcular el área. El simbolo # en R es un comentario\n",
        "\n"
      ],
      "execution_count": null,
      "outputs": []
    },
    {
      "cell_type": "markdown",
      "metadata": {
        "id": "DleUin7Ifzf0"
      },
      "source": [
        "2. Use la reglade Sturges para saber cuántas clases debe haber en un histograma cuando se dispone de una muestra de 150.\n",
        "\n",
        "\n",
        "\n"
      ]
    },
    {
      "cell_type": "code",
      "metadata": {
        "id": "ujBLyXhagPrR"
      },
      "source": [
        "\n",
        "# como calcular logaritmos en otras bases\n",
        "# log(n,base)\n",
        "# el logaritmo base 2 de 10\n",
        "\n",
        "# Regla de Sturges 1+3.3log(n)\n",
        "\n"
      ],
      "execution_count": null,
      "outputs": []
    },
    {
      "cell_type": "markdown",
      "metadata": {
        "id": "88Z41cJmgH2B"
      },
      "source": [
        "3. calcular el tamaño de muestra para estimar a un promedio población cuando la confianza es 95%, el error es 5 y la desviación estándar de la muestra es 10.\n",
        "\n",
        "$$ n=\\frac{Z_{\\alpha/2}^2S^2}{E^2}$$"
      ]
    },
    {
      "cell_type": "code",
      "metadata": {
        "id": "M2B5Hr6_g-bi"
      },
      "source": [
        "# tamaño de muestra \n",
        "\n",
        "# para redondear se usa round(numero,decimales)\n"
      ],
      "execution_count": null,
      "outputs": []
    },
    {
      "cell_type": "markdown",
      "metadata": {
        "id": "a267UC-dgqBN"
      },
      "source": [
        "4. Calcule el error estándar de la proporción de artículos defectuosos de una muestra de tamaño 250. Suponga que en la muestra hay 2 artículos defectuosos.\n",
        "\n",
        "$$ee=\\sqrt \\frac{{\\hat{p}(1-\\hat{p})}}{n}$$"
      ]
    },
    {
      "cell_type": "code",
      "metadata": {
        "id": "dLvbj3RGhIlF"
      },
      "source": [
        "# error estándar\n"
      ],
      "execution_count": null,
      "outputs": []
    },
    {
      "cell_type": "markdown",
      "metadata": {
        "id": "M3OrUfv8hulX"
      },
      "source": [
        "5. ¿Cuál es la parte entera del promedio de estaturas? La suma de 3 estaturas es 5.1 m.\n"
      ]
    },
    {
      "cell_type": "code",
      "metadata": {
        "id": "MB03RhHZx7T5"
      },
      "source": [
        "# parte entera del promedio  \n",
        "\n",
        "# el promedio\n"
      ],
      "execution_count": null,
      "outputs": []
    },
    {
      "cell_type": "markdown",
      "metadata": {
        "id": "iAXLgNUeiPN3"
      },
      "source": [
        "6. Si una muestra de 3 personas tienen 11 hermanos en total ¿Cuál es el resto o residuo del promedio de la cantidad de hermanos?"
      ]
    },
    {
      "cell_type": "code",
      "metadata": {
        "id": "aPiupDBhieQw"
      },
      "source": [
        "# promedio\n",
        "\n",
        "# residuo\n"
      ],
      "execution_count": null,
      "outputs": []
    },
    {
      "cell_type": "markdown",
      "metadata": {
        "id": "x-4bbJMFjCHg"
      },
      "source": [
        "7. Se tienen las estaturas promedio de hombres y mujeres.\n",
        "\n",
        "Promedio de hombres = 1.7 m\n",
        "\n",
        "promedio de mujeres = 1.68 m\n",
        "\n",
        "Use los simbolos de comparación en las estaturas de mujeres vs la de hombres. \n"
      ]
    },
    {
      "cell_type": "code",
      "metadata": {
        "id": "IJqMF-T5kSXM"
      },
      "source": [
        ""
      ],
      "execution_count": null,
      "outputs": []
    },
    {
      "cell_type": "markdown",
      "metadata": {
        "id": "Lnn3-ihuge9y"
      },
      "source": [
        "8. USe los operadores para realizar las siguientes comparaciones"
      ]
    },
    {
      "cell_type": "code",
      "metadata": {
        "id": "c1aMRCIBgeQN"
      },
      "source": [
        "# Es 10 menor que 12 o mayor que 3\n",
        "\n",
        "\n",
        "# Es 5 menor que 9 pero mayor o igual que 6\n",
        "\n",
        "\n",
        "# Es 5 distinto de 8\n",
        "\n"
      ],
      "execution_count": null,
      "outputs": []
    },
    {
      "cell_type": "markdown",
      "metadata": {
        "id": "qXjoVodFh0C1"
      },
      "source": [
        "9. Si el logaritmo natural de x es 3.2188758248682 ¿Cuál es el valor de x?"
      ]
    },
    {
      "cell_type": "code",
      "metadata": {
        "id": "atWcSpxdiCn5"
      },
      "source": [
        "# el valor de x es\n",
        "\n",
        "# el logaritmo natural de 25\n",
        "\n"
      ],
      "execution_count": null,
      "outputs": []
    },
    {
      "cell_type": "markdown",
      "metadata": {
        "id": "wbRhDzeM4Gm4"
      },
      "source": [
        "## Directorio de trabajo\n",
        "\n",
        "El directorio o carpeta de trabajo es el lugar en la computadora en el que se encuentran los archivos con los que estamos trabajando en R. Este es el lugar donde R buscara archivos para importarlos y al que serán exportados, a menos que se indique otra cosa.\n",
        "\n",
        "Para saber cuál es el directorio de trabajo se usa la función ```getwd()```. Sólo se tiene que escribir la función en la consola y ejecutarla. De manera predeterminada RStudio y R usan la carpeta de **Mis Documentos** como el directorio de trabajo."
      ]
    },
    {
      "cell_type": "code",
      "metadata": {
        "id": "a9NpDSHR4dZ7"
      },
      "source": [
        "# ejecuta la función getwd()\n",
        "\n",
        "# Puedes cambiar el directorio de trabajo usando la función setwd(), dando como argumento la ruta del directorio que quieres usar.\n",
        "\n",
        "#setwd(\"C:\\otro_directorio\")   # la usaremos en RStudio."
      ],
      "execution_count": null,
      "outputs": []
    },
    {
      "cell_type": "markdown",
      "metadata": {
        "id": "FlBxOlXZ0OGq"
      },
      "source": [
        "## Ambiente global.\n",
        "\n",
        "Antes de iniciar, es importante saber que cuando iniciamos una sesión en R, el sistema de R crea un nuevo ambiente para objetos creados durante la sesión este ambiente de se llama ambiente global."
      ]
    },
    {
      "cell_type": "markdown",
      "metadata": {
        "id": "7xxKhH76OKKn"
      },
      "source": [
        "Para  saber que objetos se encuentran en nuestro ambiente de trabajo se usa la función [ls()](https://www.rdocumentation.org/packages/base/versions/3.6.2/topics/ls). Si requiere borrar un elemento del ambiente de trabajo solo use ```rm(objeto)```."
      ]
    },
    {
      "cell_type": "code",
      "metadata": {
        "id": "b2AO19mB5QGF"
      },
      "source": [
        "# Usa ls() para saber que objetos hay en el ambiente global\n"
      ],
      "execution_count": null,
      "outputs": []
    },
    {
      "cell_type": "markdown",
      "metadata": {
        "id": "T9CUMZeV-88y"
      },
      "source": [
        "# Tipos de objetos en R \n",
        "\n",
        "R es un lenguaje orientado a objetos. Los objetos pueden ser usados para guardar valores y pueden modificarse (mediante funciones) como por ejemplo sumar dos objetos o calcular la media. R opera sobre estructuras de datos con nombres. \n",
        "\n",
        "* Vectores\n",
        "* Matrices\n",
        "* Arreglos\n",
        "* Data frames\n",
        "* Listas\n",
        "\n",
        "## Vectores y asignación\n",
        "\n",
        "La más simple de las estructuras es el vector, que consiste en una colección ordenada de valores numéricos, alfanuméricos o lógicos. La función de R para crear un vector es ```c()```. Para asignar aun vector valores, se usa el operador ```<-``` ([razones del uso de <-](https://www.r-bloggers.com/2018/09/why-do-we-use-arrow-as-an-assignment-operator/)), por ejemplo, para asignar al objeto ```x``` un vector con los elementos 10.4,5.6, 3.1, 6.4 y 21.7  se usa:\n",
        "\n",
        "```\n",
        "x <- c(10.4, 5.6, 3.1, 6.4, 21.7)\n",
        "```\n",
        "La asignación tambien puede hacerse en la otra dirección:\n",
        "```\n",
        "c(10.4, 5.6, 3.1, 6.4, 21.7) -> x\n",
        "```\n",
        "y como alternativa tambien puede usarse el simbolo ```=```\n",
        "```\n",
        "x = c(10.4, 5.6, 3.1, 6.4, 21.7)\n",
        "```\n",
        "Una manera menos usual de asignar es con la función [assign](https://www.rdocumentation.org/packages/base/versions/3.6.2/topics/assign).\n",
        "\n",
        "Un vector no numérico utilizala la función ```c()``` con los elementos separados por coma pero entre comillas rectas dobles ```\"  \"``` o simples ```'  '```, tenega cuidado con el uso de comillas dobles o simples como esta: ```“  ”```.\n",
        "\n",
        "```\n",
        "y <- c(\"a\",'b',\"c\") \n",
        "```\n",
        "Y un vector de valores boleanos:\n",
        "\n",
        "```\n",
        "z <- c(TRUE,FALSE, TRUE)\n",
        "w <- c(T,F)\n",
        "```\n",
        "\n",
        "La longitud de un vector es el número de elementos que contiene y puede obtenerse de la siguiente manera:\n",
        "```\n",
        "length(x)\n",
        "length(y)\n",
        "length(z)\n",
        "length(w)\n",
        "\n",
        "```\n"
      ]
    },
    {
      "cell_type": "markdown",
      "metadata": {
        "id": "yahn8ehERuum"
      },
      "source": [
        "Los objetos creados, por ejemplo los tres vectores anteriores, se almacenan en el espacio de trabajo. Para obtener una impresión en pantalla de los objetos creados basta con escribir su nombre en la consola  o usar la función ```print(objeto)```.\n",
        "\n",
        "```\n",
        "# escribiendo solo el nombre del objeto\n",
        "\n",
        "x\n",
        "y\n",
        "z\n",
        "w\n",
        "\n",
        "# usando la función print\n",
        "\n",
        "print(x)\n",
        "print(y)\n",
        "print(z)\n",
        "print(w)\n",
        "```"
      ]
    },
    {
      "cell_type": "markdown",
      "metadata": {
        "id": "l_P9pXJUKvkt"
      },
      "source": [
        "La función ```class(objeto)```  recibe como argumento un objeto y devuelve el nombre del tipo al que pertenece.\n",
        "La función ```str(objeto)```    muestra la estructura interna del objeto. Mas detalles sobre los [objetos en R](https://stat.ethz.ch/R-manual/R-devel/doc/manual/R-lang.html#List-objects).\n"
      ]
    },
    {
      "cell_type": "code",
      "metadata": {
        "id": "QvkYpvcU1NyF"
      },
      "source": [
        "# Un objeto que solo tenga un elemento, es un vector.\n",
        "\n",
        "\n",
        "# verifique todo el código de los parrafos anteriores y use las funciones class() y str() para mostrar la clase y la estructura interna del objeto\n",
        "\n",
        "\n",
        "# La asignación tambien puede hacerse en la otra dirección:\n",
        "\n",
        "\n",
        "# y como alternativa tambien puede usarse el simbolo =\n",
        "\n",
        "\n",
        "# la clase y estructura de x\n",
        "\n",
        "\n",
        "# la longitud de x\n",
        "\n",
        "# imprimir a x\n",
        "\n",
        "\n",
        "\n"
      ],
      "execution_count": null,
      "outputs": []
    },
    {
      "cell_type": "code",
      "metadata": {
        "id": "L0EYaWpdGt2c"
      },
      "source": [
        "# Un vector no numérico utilizala la función c() con los elementos separados por coma pero entre comillas rectas dobles \" \" o simples ' ', tenega cuidado con el uso de comillas dobles o simples como esta: “ ”.\n",
        "\n",
        "\n",
        "# la clase y estructura\n",
        "\n",
        "# la longitud de y\n",
        "\n",
        "\n",
        "# imprimir a y\n",
        "\n",
        "\n"
      ],
      "execution_count": null,
      "outputs": []
    },
    {
      "cell_type": "code",
      "metadata": {
        "id": "dSceWpLJG2i4"
      },
      "source": [
        "# Y un vector de valores boleanos:\n",
        "\n",
        "\n",
        "# la clase y estructura de z\n",
        "\n",
        "# imprimir a z\n",
        "\n",
        "\n",
        "# clase y estructura de w\n",
        "\n",
        "\n",
        "# imprimir a w\n",
        "\n"
      ],
      "execution_count": null,
      "outputs": []
    },
    {
      "cell_type": "markdown",
      "metadata": {
        "id": "tBZu4lkJBkq3"
      },
      "source": [
        "¿Qué objetos hay en el ambiente global?"
      ]
    },
    {
      "cell_type": "code",
      "metadata": {
        "id": "rs0O04vxBsWk"
      },
      "source": [
        "# listar objetos\n",
        "\n",
        "# borre el vector w\n",
        "\n",
        "\n",
        "\n",
        "# liste nuevamente los objetos\n",
        "\n"
      ],
      "execution_count": null,
      "outputs": []
    },
    {
      "cell_type": "markdown",
      "metadata": {
        "id": "GfmlvnP9HcmA"
      },
      "source": [
        "## Práctica 1. Encuesta\n",
        "\n",
        "Se realiza una pequeña encuesta a 10 personas, tres de las preguntas son:\n",
        "```\n",
        "1. Edad\n",
        "2. Género\n",
        "3. ¿Realizas ejercicio frecuentemente?\n",
        "```\n",
        "Se obtienen los siguientes resultados:\n",
        "\n",
        "| Edad  |  Genero  | Ejercicio| \n",
        "|:------|:--------:|---------:|\n",
        "|25     | Mujer    | Verdadero|\n",
        "|27     | Hombre   | Falso    |\n",
        "|19     | Mujer    | Falso    |\n",
        "|28     | Mujer    | Verdadero|\n",
        "|35     | Hombre   | Verdadero|\n",
        "|40     | Hombre   | Falso    |\n",
        "|NA     | Mujer    | Verdadero|\n",
        "|24     | Hombre   | Falso    |\n",
        "|NA     | NA       | NA       |\n",
        "|19     | Mujer    | Verdadero|"
      ]
    },
    {
      "cell_type": "markdown",
      "metadata": {
        "id": "Pd2EGSg5G9MG"
      },
      "source": [
        "Escriba el código que genere tres vectores que contengan las respuestas obtenidas en la encuesta. En el vector ```edad``` almacene las edades de las personas.  En el vector ```ejercicio``` almacene las respuestas a la pregunta ¿Realiza algún ejercicio? pero usando valores lógicos y finalmente en el vector ```genero``` almacene el género. Finalmente, imprima en pantalla los objetos.\n",
        "\n",
        "Observe que en la posición hay un renglón en la tabla donde se colocó el símbolo ```NA``` que significa *Not Available* debido a que no se registró la edad para esa persona [NA](https://www.rdocumentation.org/packages/base/versions/3.6.2/topics/NA).\n",
        "\n"
      ]
    },
    {
      "cell_type": "code",
      "metadata": {
        "id": "2IynnLIv7P4v"
      },
      "source": [
        ""
      ],
      "execution_count": null,
      "outputs": []
    },
    {
      "cell_type": "markdown",
      "metadata": {
        "id": "AbO9uMj4UtQm"
      },
      "source": [
        "Ahora verifique que objetos se encuentran en el ambiente de trabajo, diga que clase y que estructura tienen y elimine el objeto ejercicio."
      ]
    },
    {
      "cell_type": "code",
      "metadata": {
        "id": "hxicocEHU9nX"
      },
      "source": [
        "# Verificar los objetos del espacio de trabajo\n",
        "\n"
      ],
      "execution_count": null,
      "outputs": []
    },
    {
      "cell_type": "code",
      "metadata": {
        "id": "ADW-odWtIUVK"
      },
      "source": [
        "# Clase y estructura de objetos\n",
        "\n"
      ],
      "execution_count": null,
      "outputs": []
    },
    {
      "cell_type": "code",
      "metadata": {
        "id": "GE4F_WVmIeb_"
      },
      "source": [
        "# borrar el vector ejercicio\n",
        "\n",
        "# verificar los objetos del ambiente de trabajo.\n",
        "\n",
        "\n",
        "# genere nuevamente el objeto ejercicio\n",
        "\n",
        "\n",
        "# verifica que ejercicio esté nuevamente en el ambiente global\n"
      ],
      "execution_count": null,
      "outputs": []
    },
    {
      "cell_type": "markdown",
      "metadata": {
        "id": "kKgCq4fTBtpy"
      },
      "source": [
        "## Selección de elementos de un vector\n",
        "\n",
        "En muchas ocasiones será importante extraer un elemento almacenado dentro un vector. Para esto se usa en nombre del vector seguido de corchetes [ ] y dentro de ellos la posición o posiciones que interesan, por ejemplo  ```vector[2]``` nos muestra al elemento 2 del vector y ```vector[c(2,5]``` muestra a los elementos de las posiciones 2 y 5.\n",
        "\n",
        "Es posible seleccionar elementos de un vector que cumplan una condición o más. Observe los siguientes ejemplos:\n",
        "\n",
        "```\n",
        "# Si se define al vector\n",
        "\n",
        "vector <- c(0,1,2,3,4,5,6,7,8,9)\n",
        "\n",
        "# elementos del vector que son mayores que 2\n",
        "\n",
        "vector[vector>2]\n",
        "3 4 5 6 7 8 9\n",
        "\n",
        "# elementos del vector menores que 5 y mayores que 2\n",
        "\n",
        "vector[vector>2 & vector<5]\n",
        "3 4\n",
        "\n",
        "# elementos mayores que 5\n",
        "\n",
        "vector[vector>5]\n",
        "6 7 8 9\n",
        "\n",
        "# otra forma de escribirlo\n",
        "vector[!vector<=5]\n",
        "```\n",
        "\n"
      ]
    },
    {
      "cell_type": "markdown",
      "metadata": {
        "id": "DSVWGiNOEX3r"
      },
      "source": [
        "Verificar el código anterior."
      ]
    },
    {
      "cell_type": "code",
      "metadata": {
        "id": "lb6Mj-I7bARY"
      },
      "source": [
        "# Si se define al vector\n",
        "\n",
        "\n",
        "# ¿qué elementos de vector son mayores que 2\n",
        "\n",
        "\n",
        "         \n"
      ],
      "execution_count": null,
      "outputs": []
    },
    {
      "cell_type": "code",
      "metadata": {
        "id": "MWeSdLRuI6X5"
      },
      "source": [
        "# elementos del vector que son mayores que 2\n",
        "\n",
        "\n",
        " "
      ],
      "execution_count": null,
      "outputs": []
    },
    {
      "cell_type": "code",
      "metadata": {
        "id": "u0hN5AIgI_Lw"
      },
      "source": [
        "# elementos del vector menores que 5 y mayores que 2\n",
        "\n",
        "\n"
      ],
      "execution_count": null,
      "outputs": []
    },
    {
      "cell_type": "code",
      "metadata": {
        "id": "PmKLTaVEJDWp"
      },
      "source": [
        "\n",
        "# elementos mayores que 5\n",
        "\n",
        "\n",
        "\n",
        "# otra forma de escribirlo\n"
      ],
      "execution_count": null,
      "outputs": []
    },
    {
      "cell_type": "code",
      "metadata": {
        "id": "vpow2NdPK7e8"
      },
      "source": [
        "# Si se requiere cambiar a al elemento 5 que es el número 4 por el número 8, del objeto vector\n",
        "# vector <- c(0,1,2,3,4,5,6,7,8,9)\n",
        "\n",
        "\n",
        "# Si se requieren cambiar los elementos 1 y 2 con los números 25 y 30\n",
        "\n",
        "\n",
        "# cuando a R le damos menos valores de los que queremos cambiar se reciclan\n",
        "          # ver recycling   c(25,30,25)\n"
      ],
      "execution_count": null,
      "outputs": []
    },
    {
      "cell_type": "markdown",
      "metadata": {
        "id": "LxYRMuGtHeP4"
      },
      "source": [
        "## Práctica 2. Seguimos con la encuesta\n",
        "\n",
        "Escribe el código R para respoder lo siguiente:  \n",
        "\n",
        "```\n",
        "¿Cuántos años tiene la persona 2?\n",
        "¿Las personas 2 y 3 realizan ejercicio?\n",
        "¿cuáles son las edades que estan entre 20 y 30 años (incluido 20 pero 30 no)? \n",
        "Del vector genero seleccione solo a las mujeres y a partir de esto fgenere un vector llamado mujer\n",
        "¿Cuántas personas hacen ejercicio?\n",
        "```"
      ]
    },
    {
      "cell_type": "code",
      "metadata": {
        "id": "QiNDHFJxqNcW"
      },
      "source": [
        "# edad de la persona 2\n",
        "\n",
        "# ejercicio de personas 2 y 3\n",
        "\n",
        "# edades entre 20 y 30 años\n",
        "\n",
        "\n",
        "# solo mujeres\n",
        "\n",
        "# personas que hacen ejercicio\n",
        "\n",
        "\n",
        "\n"
      ],
      "execution_count": null,
      "outputs": []
    },
    {
      "cell_type": "markdown",
      "metadata": {
        "id": "csQJG9Ft4FwW"
      },
      "source": [
        "## Vectorización de operaciones\n",
        "\n",
        "Cuando realizamos las operaciones básicas y relacionales sobre un vector se aplican a cada uno de sus elementos.\n",
        "\n"
      ]
    },
    {
      "cell_type": "code",
      "metadata": {
        "id": "2HXYb6W04meu"
      },
      "source": [
        "# obtenga los pronosticos de las alturas de las personas encuestadas a partir de su edad si la ecuación es\n",
        "# y =  1.602294+0.003925*x   donde x es la edad\n",
        "\n",
        "#el vector edad\n",
        "\n",
        "# la pendiente por la edad\n"
      ],
      "execution_count": null,
      "outputs": []
    },
    {
      "cell_type": "code",
      "metadata": {
        "id": "LqcNtlKCKDga"
      },
      "source": [
        "\n",
        "# ¿qué personas son mayores de 20 años en el vector edad?\n",
        "\n",
        "# calcule la mitad de las edades\n",
        "\n",
        "# Asigne al vector logedad el logaritmo natural de las edades \n",
        "\n",
        "\n",
        "# A partir del logaritmo obtenga los valores de la edad origniales\n"
      ],
      "execution_count": null,
      "outputs": []
    },
    {
      "cell_type": "code",
      "metadata": {
        "id": "5TJgxW6DKJqK"
      },
      "source": [
        "\n",
        "# realice las operaciones aritméticas con los dos vectores siguientes\n",
        "# a<-c(1,2,3) y b<-c(1,2,3)\n",
        "\n",
        "\n",
        "# operaciones de un vector con una constante\n",
        "\n",
        "\n",
        "\n"
      ],
      "execution_count": null,
      "outputs": []
    },
    {
      "cell_type": "markdown",
      "metadata": {
        "id": "VYZ4k43lJCet"
      },
      "source": [
        "## Cuidado con el reciclado\n",
        "\n",
        "Una fuente común de errores en R es el uso de reciclado (recycling en inglés). Se ha visto que los vectores se agregan por elementos. Entonces, si los vectores no coinciden en longitud, es natural suponer que se obtendrá un error. Pero ese no es el caso. "
      ]
    },
    {
      "cell_type": "code",
      "metadata": {
        "id": "r34W8Kl9JI5I"
      },
      "source": [
        "# Si los vectores son d <- c(1,2) y e <- c(3,4,5) realice las mismas operaciones y explique que ocurre (Recycled)\n",
        "\n"
      ],
      "execution_count": null,
      "outputs": []
    },
    {
      "cell_type": "markdown",
      "metadata": {
        "id": "JaRpTcDfKXOg"
      },
      "source": [
        "## Nombres de los elementos de un vector\n",
        "\n",
        "A veces es útil nombrar las entradas de un vector. Por ejemplo, si el vector contiene las calificaciones de varias materias, podemos usar los nombres para saber las calificaciones de cada alumno:\n",
        "\n",
        "Podemos definir los nombres de dos formas:\n",
        "\n",
        "```\n",
        "calificaciones_1 <- c(Pepe = 8, Paco = 9, Polo = 7, Pepe = 9, Polo = 9)\n",
        "```\n",
        "```\n",
        "calificaciones_2 <- c(8,9,7,9,9)\n",
        "names(callificaciones_2) <- c('Pepe','Paco', 'Polo', 'Pepe', 'Polo')\n",
        "```\n",
        "\n"
      ]
    },
    {
      "cell_type": "code",
      "metadata": {
        "id": "tC-rfD1rMFxR"
      },
      "source": [
        "# verifique el código anterior\n",
        "\n",
        "\n",
        "\n",
        "# otra forma de hacerlo\n",
        "\n",
        "\n",
        "# ¿Cuáles son las calificaciones de Polo?\n",
        "\n",
        "\n",
        "# verifique que calificaciones es un vector y de que clase es\n",
        "\n",
        "\n",
        "# guardar la información en un documento csv (comma separable variables)\n",
        "\n"
      ],
      "execution_count": null,
      "outputs": []
    },
    {
      "cell_type": "markdown",
      "metadata": {
        "id": "ZqclF_nL3JXe"
      },
      "source": [
        "## Algo más sobre vectores\n",
        "\n",
        "Hay algunas funciones que operan sobre vectores, algunos vectores importantes y .\n",
        "\n",
        "| Función  | Resultado| \n",
        "|:------|:--------|\n",
        "|is.vector(objeto) | TRUE si objeto es vector|\n",
        "|length(vector)    | Longitud del vector    |\n",
        "|sum(vector)       | Suma todos los elementos de un vector  |\n",
        "|cumsum(vector)    | Suma acumulada por renglón|\n",
        "|table(vector)     | Hombre   | Verdadero|\n",
        "|seq(desde,hasta,incremento)             | Genera secuencias|\n",
        "|rep(x,times)           | Gerera repeticiones|  \n",
        "|cbind(vector1,vector_2)|combina los vectores 1 y 2 en columnas|\n",
        "|rbind(vector1,vector2)|combina los vectores 1 y 2 en renglones| \n",
        "|sort(vector)| Ordena un vector\n",
        "\n"
      ]
    },
    {
      "cell_type": "code",
      "metadata": {
        "id": "bOzAoLEd3d4r"
      },
      "source": [
        "# verificar que edad es un vector\n",
        "\n",
        "# el número de elementos en el vector genero\n"
      ],
      "execution_count": null,
      "outputs": []
    },
    {
      "cell_type": "code",
      "metadata": {
        "id": "BqZLZfXtrGoF"
      },
      "source": [
        "\n",
        "# la suma de las edades\n",
        "\n",
        "\n",
        "# la cantidad de personas que realizan ejercicio\n",
        "                                #https://www.rdocumentation.org/packages/base/versions/3.6.2/topics/sum\n",
        "                          \n",
        "                                #porcentaje de personas que hace ejercicio\n",
        "# calcular las función de probabilidades acumuladas en el experimento de lanzar dos monedas aa,as,sa,ss\n",
        "# prob 0 águilas, 1 águila, 2 águilas\n",
        "\n"
      ],
      "execution_count": null,
      "outputs": []
    },
    {
      "cell_type": "code",
      "metadata": {
        "id": "DH713bHkLEU1"
      },
      "source": [
        "\n",
        "# haga una tabla de frecuencias del genero de las personas entrevistadas\n",
        "\n",
        "#calcule la moda de las edades\n",
        "\n",
        "# tabla de doble entrada con generoy ejercicio\n",
        "\n",
        "\n"
      ],
      "execution_count": null,
      "outputs": []
    },
    {
      "cell_type": "code",
      "metadata": {
        "id": "2J2dOKeQLLqS"
      },
      "source": [
        "# vector con datos de edad donde no hay valores NA\n",
        "\n",
        "\n",
        "# genere una secuencia de 1 hasta 20 con incrementos de 1   seq(desde,hasta,by)\n",
        "\n",
        "# genere una secuencia de 1 hasta 20 con incrementos de 0.5\n",
        "\n"
      ],
      "execution_count": null,
      "outputs": []
    },
    {
      "cell_type": "code",
      "metadata": {
        "id": "f2DboCUmLyZS"
      },
      "source": [
        "\n",
        "# genere un vector con diez elementos 1\n",
        "\n",
        "\n",
        "# repita 4 veces los numeros 1,2,3 (en ese orden)\n",
        "\n",
        "\n",
        "# combine por renglon y columna los vectores 1,2,3,4 y 5,6,7,8 despues de haberlos nombrado,asignelos a otro objeto y vea la clase de ese nuevo objeto.\n",
        "\n",
        "\n",
        "# transpones un vector\n"
      ],
      "execution_count": null,
      "outputs": []
    },
    {
      "cell_type": "code",
      "metadata": {
        "id": "X9PkjljXMPQq"
      },
      "source": [
        "# ordene las edades ascendentemente\n",
        "\n",
        "# ordene descendentemente las edades         https://www.rdocumentation.org/packages/base/versions/3.6.2/topics/sort\n"
      ],
      "execution_count": null,
      "outputs": []
    },
    {
      "cell_type": "code",
      "metadata": {
        "id": "9CssXyspNoM0"
      },
      "source": [
        "# Convierta a minúsculas el vector \n",
        "# nombres <- c('Miguel','Leona','Agustín')\n",
        "\n",
        "\n",
        "\n",
        "# convierta a mayúsculas los nombres\n"
      ],
      "execution_count": null,
      "outputs": []
    },
    {
      "cell_type": "markdown",
      "metadata": {
        "id": "yDEO7qVZP_SO"
      },
      "source": [
        "## Fechas en R\n",
        "\n",
        "Cuando vamos a realizar algún tipo de código en R para el que necesitemos utilizar fechas, debemos tener presente el formato en el que R almacena las fechas, ya que nos será de utilidad a la hora de trabajar con ellas.\n",
        "\n",
        "El estándar utilizado por R para las fechas es ```yyyy-mm-dd```, es decir, ```año-mes-día```. \n",
        "\n",
        "Para introducir una fecha en R, debemos utilizar siempre la función ```as.Date```. Si no lo utilizamos, el programa leerá nuestra fecha como una variable ```character```, y lógicamente no podremos utilizarla como fecha."
      ]
    },
    {
      "cell_type": "code",
      "metadata": {
        "id": "VcFs6PFpPMcc"
      },
      "source": [
        "# cuantos días han transcurrido desde su fecha de nacimiento\n",
        "\n",
        "\n",
        "# Nacimiento\n",
        "\n",
        "# la diferencia\n",
        "\n"
      ],
      "execution_count": null,
      "outputs": []
    },
    {
      "cell_type": "code",
      "metadata": {
        "id": "OCewiTMXQx-P"
      },
      "source": [
        ""
      ],
      "execution_count": null,
      "outputs": []
    }
  ]
}